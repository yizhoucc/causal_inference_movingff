{
 "cells": [
  {
   "cell_type": "code",
   "execution_count": 7,
   "metadata": {},
   "outputs": [
    {
     "name": "stdout",
     "output_type": "stream",
     "text": [
      "The autoreload extension is already loaded. To reload it, use:\n",
      "  %reload_ext autoreload\n"
     ]
    }
   ],
   "source": [
    "%load_ext autoreload\n",
    "%autoreload 2"
   ]
  },
  {
   "cell_type": "markdown",
   "metadata": {},
   "source": [
    "# imports"
   ]
  },
  {
   "cell_type": "code",
   "execution_count": 5,
   "metadata": {},
   "outputs": [
    {
     "ename": "SyntaxError",
     "evalue": "invalid syntax (firefly_task.py, line 193)",
     "output_type": "error",
     "traceback": [
      "Traceback \u001b[0;36m(most recent call last)\u001b[0m:\n",
      "\u001b[0m  File \u001b[1;32m~/miniconda3/envs/lab/lib/python3.11/site-packages/IPython/core/interactiveshell.py:3553\u001b[0m in \u001b[1;35mrun_code\u001b[0m\n    exec(code_obj, self.user_global_ns, self.user_ns)\u001b[0m\n",
      "\u001b[0;36m  Cell \u001b[0;32mIn[5], line 6\u001b[0;36m\n\u001b[0;31m    from firefly_task import CircularFireflyEnv as Task\u001b[0;36m\n",
      "\u001b[0;36m  File \u001b[0;32m~/Library/Mobile Documents/com~apple~CloudDocs/moving ff/firefly_task.py:193\u001b[0;36m\u001b[0m\n\u001b[0;31m    if reward>0 or\u001b[0m\n\u001b[0m                   ^\u001b[0m\n\u001b[0;31mSyntaxError\u001b[0m\u001b[0;31m:\u001b[0m invalid syntax\n"
     ]
    }
   ],
   "source": [
    "import os\n",
    "import sys\n",
    "sys.path.append(f'{os.getcwd()}')\n",
    "from ult import *\n",
    "from stable_baselines3 import PPO\n",
    "from firefly_task import CircularFireflyEnv as Task"
   ]
  },
  {
   "cell_type": "markdown",
   "metadata": {},
   "source": [
    "# test"
   ]
  },
  {
   "cell_type": "code",
   "execution_count": 8,
   "metadata": {},
   "outputs": [],
   "source": [
    "import torch\n",
    "\n"
   ]
  },
  {
   "cell_type": "code",
   "execution_count": 10,
   "metadata": {},
   "outputs": [
    {
     "name": "stdout",
     "output_type": "stream",
     "text": [
      "tensor([-0.2167, -1.0644, -1.9120, -2.7597, -3.6073, -4.4549, -5.3026, -6.1502,\n",
      "        -6.9979, -7.8455])\n",
      "('decide selfmotion:tensor([True]), mu_w 0.64 > 0.08',)\n",
      "(tensor([0.6407]), 'w estimated')\n",
      "(tensor([-0.2084]), 'v estimated')\n",
      "('decide object motion:tensor([False]), mu_v -0.21 > 0.22',)\n",
      "tensor([-0.2167, -1.0644, -1.9120, -2.7597, -3.6073, -4.4549, -5.3026, -6.1502,\n",
      "        -6.9979, -7.8455])\n",
      "('decide selfmotion:tensor([True]), mu_w 0.99 > 0.08',)\n",
      "(tensor([0.9883]), 'w estimated')\n",
      "(tensor([0.1432]), 'v estimated')\n",
      "('decide object motion:tensor([False]), mu_v 0.14 > 0.22',)\n",
      "true w tensor([0.8476]) v tensor([0.])\n",
      "belief mu z:tensor([-8.2537,  0.1432,  0.0000]), \n",
      "belief cov S:tensor([[ 3.5174e-01, -9.9502e-04,  0.0000e+00],\n",
      "        [-9.9502e-04,  1.5299e-01,  0.0000e+00],\n",
      "        [ 0.0000e+00,  0.0000e+00,  1.0000e-06]])\n",
      "state ft: -7.81\n"
     ]
    }
   ],
   "source": [
    "from firefly_task import Model\n",
    "model=Model(dt=1)\n",
    "model.reset()\n",
    "# f,w=model.obs_dynamic()\n",
    "z, S = model.obs_phase()\n",
    "print('true w', model.w,'v', model.v)\n",
    "print(f'belief mu z:{z}, \\nbelief cov S:{S}')\n",
    "print(f'state ft: {model.f_t:.2f}')\n",
    "\n",
    "# plt.plot(w)\n",
    "# plt.plot(f+torch.cumsum(w,axis=0)*model.dt)"
   ]
  },
  {
   "cell_type": "code",
   "execution_count": 101,
   "metadata": {},
   "outputs": [
    {
     "data": {
      "text/plain": [
       "(tensor([ 5.1008e+00, -2.0842e-01, -6.1153e-01,  5.8833e+02,  1.5299e-01,\n",
       "          9.4846e+00]),\n",
       " tensor([0]),\n",
       " True,\n",
       " {})"
      ]
     },
     "execution_count": 101,
     "metadata": {},
     "output_type": "execute_result"
    }
   ],
   "source": [
    "model.step(torch.ones(1)*-2)"
   ]
  },
  {
   "cell_type": "code",
   "execution_count": 41,
   "metadata": {},
   "outputs": [
    {
     "name": "stdout",
     "output_type": "stream",
     "text": [
      "[tensor([-9.3018, -0.2084,  0.6115]), tensor(0.9597), tensor(0.1530), tensor(0.3050)]\n"
     ]
    },
    {
     "data": {
      "text/plain": [
       "tensor([-9.3018, -0.2084,  0.6115,  0.9597,  0.1530,  0.3050])"
      ]
     },
     "execution_count": 41,
     "metadata": {},
     "output_type": "execute_result"
    }
   ],
   "source": [
    "zt, St = model.z\n",
    "print(([zt.reshape(-1), St[0, 0], St[1, 1], St[0, 1]]))\n",
    "torch.concat([zt.reshape(-1), St[0, 0].reshape(1), St[1, 1].reshape(1), St[0, 1].reshape(1)])"
   ]
  },
  {
   "cell_type": "code",
   "execution_count": 465,
   "metadata": {},
   "outputs": [
    {
     "data": {
      "text/plain": [
       "(tensor([[ 0.9200, -0.0394],\n",
       "         [-0.0394,  0.4874]]),\n",
       " tensor([[0.9613, 0.1473],\n",
       "         [0.1473, 0.4874]]),\n",
       " tensor([[ 0.8201, -0.0658],\n",
       "         [-0.0658,  0.5130]], grad_fn=<SliceBackward0>),\n",
       " tensor([[0.8585, 0.1551],\n",
       "         [0.1551, 0.5130]], grad_fn=<MulBackward0>))"
      ]
     },
     "execution_count": 465,
     "metadata": {},
     "output_type": "execute_result"
    }
   ],
   "source": [
    "from models import Model_NoSM_ControlA as Model\n",
    "\n",
    "john=Model(t_obs=1, T_control=1)\n",
    "\n",
    "john.get_threshold_noSM(), john.get_threshold_SM()\n",
    "\n",
    "john.get_Sigma_move_SM()[[1,3],:][:,[1,3]], john.get_Sigma_stat_SM()[[1,3],:][:,[1,3]],john.get_Sigma_move_noSM()[1:,1:], john.get_Sigma_stat_noSM()\n",
    "\n",
    "# john.get_Sigma_move_SM(), john.get_Sigma_stat_SM(),john.get_Sigma_move_noSM(), john.get_Sigma_stat_noSM()\n"
   ]
  },
  {
   "cell_type": "code",
   "execution_count": 467,
   "metadata": {},
   "outputs": [
    {
     "data": {
      "text/plain": [
       "1"
      ]
     },
     "execution_count": 467,
     "metadata": {},
     "output_type": "execute_result"
    }
   ],
   "source": [
    "True*1"
   ]
  },
  {
   "cell_type": "code",
   "execution_count": 3,
   "metadata": {},
   "outputs": [
    {
     "name": "stdout",
     "output_type": "stream",
     "text": [
      "v is 0\n",
      "v [0.8283250491054964, -1.4036037558408296, 1.903627719591597, 0.9550030944945197, 0.29649228326520405, -0.6575847249233046]\n",
      "0.3512515264365923\n"
     ]
    }
   ],
   "source": [
    "# # testing region\n",
    "# env = Task()\n",
    "# env.obs_phase()\n",
    "# # print(env.observations)\n",
    "# A = [a[0] for a in env.observations]\n",
    "# B = [a[1] for a in env.observations]\n",
    "# print('v', B)\n",
    "\n",
    "# mu, sigma = calculate_mu_sigma(B)\n",
    "# prob_density_0 = probability_of_zero(mu, sigma)\n",
    "# print(prob_density_0)\n"
   ]
  }
 ],
 "metadata": {
  "kernelspec": {
   "display_name": "lab",
   "language": "python",
   "name": "python3"
  },
  "language_info": {
   "codemirror_mode": {
    "name": "ipython",
    "version": 3
   },
   "file_extension": ".py",
   "mimetype": "text/x-python",
   "name": "python",
   "nbconvert_exporter": "python",
   "pygments_lexer": "ipython3",
   "version": "3.11.7"
  }
 },
 "nbformat": 4,
 "nbformat_minor": 2
}
