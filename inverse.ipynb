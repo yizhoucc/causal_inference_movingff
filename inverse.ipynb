{
 "cells": [
  {
   "cell_type": "code",
   "execution_count": 1,
   "metadata": {},
   "outputs": [],
   "source": [
    "%load_ext autoreload\n",
    "%autoreload 2"
   ]
  },
  {
   "cell_type": "markdown",
   "metadata": {},
   "source": [
    "# import"
   ]
  },
  {
   "cell_type": "code",
   "execution_count": 2,
   "metadata": {},
   "outputs": [],
   "source": [
    "import torch\n",
    "import gym\n",
    "from firefly_task import Model as Task\n",
    "from stable_baselines3 import PPO\n",
    "from ult import *\n",
    "import os\n",
    "import sys\n",
    "sys.path.append(f'{os.getcwd()}')\n",
    "import warnings\n",
    "warnings.filterwarnings(\"ignore\")"
   ]
  },
  {
   "cell_type": "code",
   "execution_count": 3,
   "metadata": {},
   "outputs": [],
   "source": [
    "from cmaes import CMA\n",
    "import copy"
   ]
  },
  {
   "cell_type": "markdown",
   "metadata": {},
   "source": [
    "# prepare"
   ]
  },
  {
   "cell_type": "code",
   "execution_count": 4,
   "metadata": {},
   "outputs": [],
   "source": [
    "modelname = 'movingff_test0908'\n",
    "\n",
    "epoch_size = 33333\n",
    "n_epoch = 55\n",
    "n_seed = 1\n",
    "seed = 0\n",
    "np.random.seed(seed)\n",
    "torch.manual_seed(seed)\n",
    "\n",
    "# for plotting\n",
    "num_eval_episode = 2222  # for eval plot during training\n",
    "\n"
   ]
  },
  {
   "cell_type": "code",
   "execution_count": 5,
   "metadata": {},
   "outputs": [],
   "source": [
    "# which agent checkpoint to use\n",
    "iepoch=35"
   ]
  },
  {
   "cell_type": "code",
   "execution_count": 6,
   "metadata": {},
   "outputs": [],
   "source": [
    "# load agent and task\n",
    "env=Task(dt=1)\n",
    "env.debug=0\n",
    "thismodel = f'seed{seed}_model{modelname}_ep{iepoch}'\n",
    "model = PPO.load(f'ycstore/{thismodel}')\n",
    "# agent=agent_.actor.mu.cpu()\n"
   ]
  },
  {
   "cell_type": "code",
   "execution_count": 7,
   "metadata": {},
   "outputs": [
    {
     "name": "stdout",
     "output_type": "stream",
     "text": [
      "avg reward per eval trials: 0.65\n"
     ]
    }
   ],
   "source": [
    "# create some simulation data\n",
    "num_eval_episode=22222\n",
    "# eval collection --------------------\n",
    "results=[]\n",
    "thismodel = f'seed{seed}_model{modelname}_ep{iepoch}'\n",
    "model = PPO.load(f'ycstore/{thismodel}')\n",
    "\n",
    "def eval_wrapper(a):\n",
    "    episode = run_one_episode(env, model, deterministic=True)\n",
    "    return episode\n",
    "\n",
    "with multiprocess.Pool(processes=8) as pool:\n",
    "    all_episode_data = pool.map(eval_wrapper, range(num_eval_episode))\n",
    "\n",
    "for episode in all_episode_data:\n",
    "    # process\n",
    "    episode['sum_reward']=sum(episode['rewards'])\n",
    "    results.append(episode)\n",
    "\n",
    "df = pd.DataFrame(results)\n",
    "print(f'avg reward per eval trials: {sum(np.concatenate(df.rewards.to_numpy()))/num_eval_episode:.2f}')"
   ]
  },
  {
   "cell_type": "code",
   "execution_count": null,
   "metadata": {},
   "outputs": [],
   "source": [
    "# # create the dataset from real data\n",
    "# path=Path('data/')\n",
    "# datafiles=list(path.rglob('packed'))\n",
    "# states, actions, tasks=[],[],[]\n",
    "# for file in datafiles:\n",
    "#     with open(file, 'rb') as f:\n",
    "#         df= pickle.load(f)\n",
    "#     df=datawash(df)\n",
    "#     df=df[df.category=='normal']\n",
    "#     df=df[df.target_r>250]\n",
    "#     s, a, t=monkey_data_downsampled(df,factor=0.0025)\n",
    "#     states+=s\n",
    "#     actions+=a\n",
    "#     tasks+=t\n",
    "# del df\n"
   ]
  },
  {
   "cell_type": "code",
   "execution_count": null,
   "metadata": {},
   "outputs": [],
   "source": [
    "# continue on checkpoint or start fresh.\n",
    "resfile=Path(f'yctore/movingff_inverse/{modelname}_testinv')\n",
    "optimizer=None\n",
    "log=[]\n",
    "if resfile.is_file():\n",
    "    print('continue on previous inverse...')\n",
    "    with open(resfile, 'rb') as f:\n",
    "        log = pickle.load(f)\n",
    "    optimizer=log[-1][0]\n",
    "else:\n",
    "    print('starting new inverse ...')\n",
    "    \n",
    "def getlogll(x):\n",
    "    with torch.no_grad():\n",
    "        return  monkeyloss_(agent, actions, tasks, phi, torch.tensor(x).t(), env, action_var=1e-3,num_iteration=1, states=states, samples=5,gpu=False).item()\n",
    "\n",
    "# fresh start\n",
    "if not optimizer:\n",
    "    # init condition, we want to at least cover some dynamic range\n",
    "    init_theta=torch.tensor([[0.5],   \n",
    "            [1.0],   \n",
    "            [0.5],   \n",
    "            [0.5],   \n",
    "            [0.5],   \n",
    "            [0.5],   \n",
    "            [0.13],   \n",
    "            [0.5],   \n",
    "            [0.5],   \n",
    "            [0.5],   \n",
    "            [0.5]])\n",
    "    dim=init_theta.shape[0]\n",
    "    init_cov=torch.diag(torch.ones(dim))*0.3\n",
    "    cur_mu=init_theta.view(-1)\n",
    "    cur_cov=init_cov\n",
    "    optimizer = CMA(mean=np.array(cur_mu), sigma=0.5,population_size=14)\n",
    "    optimizer.set_bounds(np.array([\n",
    "    [0.2, 0.7, 0.01, 0.01, 0.01, 0.01, 0.129, 0.1, 0.1, 0.1, 0.1],\n",
    "    [1.,2,1,1,1,1,0.131,0.9, 0.9, 0.9, 0.9]],dtype='float32').transpose())\n"
   ]
  },
  {
   "cell_type": "code",
   "execution_count": null,
   "metadata": {},
   "outputs": [],
   "source": [
    "\n",
    "for generation in range(len(log),len(log)+399):\n",
    "    start=timer()\n",
    "    solutions = []\n",
    "    xs=[]\n",
    "    for _ in range(optimizer.population_size):\n",
    "        x = optimizer.ask().astype('float32')\n",
    "        xs.append(x)\n",
    "    solutions=ray.get([getlogll.remote(p) for p in xs])\n",
    "    meanlogll=np.mean(solutions)\n",
    "    solutions=[[x,s] for x,s in zip(xs,solutions)]\n",
    "    optimizer.tell(solutions)\n",
    "    log.append([copy.deepcopy(optimizer), xs, solutions])\n",
    "\n",
    "    with open(resfile, 'wb') as handle:\n",
    "        pickle.dump(log, handle, protocol=pickle.HIGHEST_PROTOCOL)\n",
    "    print('done, ',timer()-start)\n",
    "    print(\"generation: \",generation,'-logll: ',meanlogll)\n",
    "    print('cur estimatation ',[\"{0:0.2f}\".format(i) for i in optimizer._mean])\n",
    "    print('cur uncertainty ',[\"{0:0.2f}\".format(i) for i in np.diag(optimizer._C)**0.5])\n",
    "    notify(msg=\"\".join(['{:0.1f} '.format(i) for i in optimizer._mean]))\n",
    "    if optimizer.should_stop():\n",
    "        print('stop at {}th generation'.format(str(generation)))\n",
    "\n",
    "\n",
    "\n",
    "\n",
    "    "
   ]
  }
 ],
 "metadata": {
  "kernelspec": {
   "display_name": "lab",
   "language": "python",
   "name": "python3"
  },
  "language_info": {
   "codemirror_mode": {
    "name": "ipython",
    "version": 3
   },
   "file_extension": ".py",
   "mimetype": "text/x-python",
   "name": "python",
   "nbconvert_exporter": "python",
   "pygments_lexer": "ipython3",
   "version": "3.11.7"
  }
 },
 "nbformat": 4,
 "nbformat_minor": 2
}
